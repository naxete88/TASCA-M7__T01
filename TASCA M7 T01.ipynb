{
 "cells": [
  {
   "cell_type": "code",
   "execution_count": 3,
   "id": "0ffffc6f",
   "metadata": {},
   "outputs": [],
   "source": [
    "import numpy as np\n",
    "import pandas as pd\n",
    "import matplotlib.pyplot as plt\n",
    "from sklearn.model_selection import train_test_split\n",
    "from sklearn.neighbors import KNeighborsClassifier\n",
    "from sklearn.tree import DecisionTreeClassifier\n",
    "from sklearn.metrics import classification_report, confusion_matrix, plot_confusion_matrix\n",
    "from sklearn import metrics\n",
    "from sklearn import svm\n",
    "from tabulate import tabulate\n",
    "from sklearn.model_selection import RepeatedStratifiedKFold, KFold\n",
    "from sklearn.model_selection import GridSearchCV\n",
    "from sklearn.model_selection import cross_val_score\n",
    "from sklearn.preprocessing import StandardScaler"
   ]
  },
  {
   "cell_type": "code",
   "execution_count": 4,
   "id": "1ff21c09",
   "metadata": {
    "scrolled": true
   },
   "outputs": [
    {
     "data": {
      "text/html": [
       "<div>\n",
       "<style scoped>\n",
       "    .dataframe tbody tr th:only-of-type {\n",
       "        vertical-align: middle;\n",
       "    }\n",
       "\n",
       "    .dataframe tbody tr th {\n",
       "        vertical-align: top;\n",
       "    }\n",
       "\n",
       "    .dataframe thead th {\n",
       "        text-align: right;\n",
       "    }\n",
       "</style>\n",
       "<table border=\"1\" class=\"dataframe\">\n",
       "  <thead>\n",
       "    <tr style=\"text-align: right;\">\n",
       "      <th></th>\n",
       "      <th>Wine</th>\n",
       "      <th>Alcohol</th>\n",
       "      <th>Malic_acid</th>\n",
       "      <th>Ash</th>\n",
       "      <th>Acl</th>\n",
       "      <th>Mg</th>\n",
       "      <th>Phenols</th>\n",
       "      <th>Flavanoids</th>\n",
       "      <th>NonFlavanoid</th>\n",
       "      <th>Proanth</th>\n",
       "      <th>Color.Int</th>\n",
       "      <th>Hue</th>\n",
       "      <th>OD</th>\n",
       "      <th>Proline</th>\n",
       "    </tr>\n",
       "  </thead>\n",
       "  <tbody>\n",
       "    <tr>\n",
       "      <th>0</th>\n",
       "      <td>1</td>\n",
       "      <td>14.23</td>\n",
       "      <td>1.71</td>\n",
       "      <td>2.43</td>\n",
       "      <td>15.6</td>\n",
       "      <td>127</td>\n",
       "      <td>2.80</td>\n",
       "      <td>3.06</td>\n",
       "      <td>0.28</td>\n",
       "      <td>2.29</td>\n",
       "      <td>5.64</td>\n",
       "      <td>1.04</td>\n",
       "      <td>3.92</td>\n",
       "      <td>1065</td>\n",
       "    </tr>\n",
       "    <tr>\n",
       "      <th>1</th>\n",
       "      <td>1</td>\n",
       "      <td>13.20</td>\n",
       "      <td>1.78</td>\n",
       "      <td>2.14</td>\n",
       "      <td>11.2</td>\n",
       "      <td>100</td>\n",
       "      <td>2.65</td>\n",
       "      <td>2.76</td>\n",
       "      <td>0.26</td>\n",
       "      <td>1.28</td>\n",
       "      <td>4.38</td>\n",
       "      <td>1.05</td>\n",
       "      <td>3.40</td>\n",
       "      <td>1050</td>\n",
       "    </tr>\n",
       "    <tr>\n",
       "      <th>2</th>\n",
       "      <td>1</td>\n",
       "      <td>13.16</td>\n",
       "      <td>2.36</td>\n",
       "      <td>2.67</td>\n",
       "      <td>18.6</td>\n",
       "      <td>101</td>\n",
       "      <td>2.80</td>\n",
       "      <td>3.24</td>\n",
       "      <td>0.30</td>\n",
       "      <td>2.81</td>\n",
       "      <td>5.68</td>\n",
       "      <td>1.03</td>\n",
       "      <td>3.17</td>\n",
       "      <td>1185</td>\n",
       "    </tr>\n",
       "    <tr>\n",
       "      <th>3</th>\n",
       "      <td>1</td>\n",
       "      <td>14.37</td>\n",
       "      <td>1.95</td>\n",
       "      <td>2.50</td>\n",
       "      <td>16.8</td>\n",
       "      <td>113</td>\n",
       "      <td>3.85</td>\n",
       "      <td>3.49</td>\n",
       "      <td>0.24</td>\n",
       "      <td>2.18</td>\n",
       "      <td>7.80</td>\n",
       "      <td>0.86</td>\n",
       "      <td>3.45</td>\n",
       "      <td>1480</td>\n",
       "    </tr>\n",
       "    <tr>\n",
       "      <th>4</th>\n",
       "      <td>1</td>\n",
       "      <td>13.24</td>\n",
       "      <td>2.59</td>\n",
       "      <td>2.87</td>\n",
       "      <td>21.0</td>\n",
       "      <td>118</td>\n",
       "      <td>2.80</td>\n",
       "      <td>2.69</td>\n",
       "      <td>0.39</td>\n",
       "      <td>1.82</td>\n",
       "      <td>4.32</td>\n",
       "      <td>1.04</td>\n",
       "      <td>2.93</td>\n",
       "      <td>735</td>\n",
       "    </tr>\n",
       "  </tbody>\n",
       "</table>\n",
       "</div>"
      ],
      "text/plain": [
       "   Wine  Alcohol  Malic_acid   Ash   Acl   Mg  Phenols  Flavanoids  \\\n",
       "0     1    14.23        1.71  2.43  15.6  127     2.80        3.06   \n",
       "1     1    13.20        1.78  2.14  11.2  100     2.65        2.76   \n",
       "2     1    13.16        2.36  2.67  18.6  101     2.80        3.24   \n",
       "3     1    14.37        1.95  2.50  16.8  113     3.85        3.49   \n",
       "4     1    13.24        2.59  2.87  21.0  118     2.80        2.69   \n",
       "\n",
       "   NonFlavanoid  Proanth  Color.Int   Hue    OD  Proline  \n",
       "0          0.28     2.29       5.64  1.04  3.92     1065  \n",
       "1          0.26     1.28       4.38  1.05  3.40     1050  \n",
       "2          0.30     2.81       5.68  1.03  3.17     1185  \n",
       "3          0.24     2.18       7.80  0.86  3.45     1480  \n",
       "4          0.39     1.82       4.32  1.04  2.93      735  "
      ]
     },
     "execution_count": 4,
     "metadata": {},
     "output_type": "execute_result"
    }
   ],
   "source": [
    "columnes = ['Wine','Alcohol','Malic_acid','Ash','Acl','Mg','Phenols','Flavanoids','NonFlavanoid','Proanth','Color.Int','Hue','OD','Proline']\n",
    "df = pd.read_csv('C:/wineData.txt', names = columnes)\n",
    "df.head()"
   ]
  },
  {
   "cell_type": "code",
   "execution_count": 5,
   "id": "de3a078d",
   "metadata": {},
   "outputs": [],
   "source": [
    "# dividim les columnes en variables dependents i independents\n",
    "feature_cols = ['Alcohol','Malic_acid','Ash','Acl','Mg','Phenols','Flavanoids','NonFlavanoid',\n",
    "                'Proanth','Color.Int','Hue','OD','Proline']\n",
    "label_col = ['Wine']\n",
    "X = df[feature_cols]\n",
    "y = df[label_col]"
   ]
  },
  {
   "cell_type": "code",
   "execution_count": 6,
   "id": "bd10f949",
   "metadata": {},
   "outputs": [],
   "source": [
    "# dividim el dataset en train i test\n",
    "X_train, X_test, y_train, y_test = train_test_split(X, y, test_size = 0.3, random_state = 1)"
   ]
  },
  {
   "cell_type": "markdown",
   "id": "4dbd6da3",
   "metadata": {},
   "source": [
    "Exercici 1. Crea almenys dos models de classificació diferents per intentar predir el millor\n",
    "les classes de l'arxiu adjunt."
   ]
  },
  {
   "cell_type": "code",
   "execution_count": 7,
   "id": "1f4d585d",
   "metadata": {},
   "outputs": [],
   "source": [
    "# model 1 creem el classificador svm\n",
    "clf = svm.SVC(kernel = 'linear')\n",
    "# entrenem el model\n",
    "clf.fit(X_train, y_train.values.ravel())\n",
    "# realitzem les prediccions\n",
    "y_pred_clf = clf.predict(X_test)"
   ]
  },
  {
   "cell_type": "code",
   "execution_count": 8,
   "id": "00409b97",
   "metadata": {},
   "outputs": [],
   "source": [
    "# model 2 veïns més propers\n",
    "knb = KNeighborsClassifier(n_neighbors = 10)\n",
    "# entrenem el model\n",
    "knb.fit(X_train, y_train.values.ravel())\n",
    "# fem les prediccions\n",
    "y_pred_knb = knb.predict(X_test)\n"
   ]
  },
  {
   "cell_type": "code",
   "execution_count": 9,
   "id": "80103e6c",
   "metadata": {},
   "outputs": [],
   "source": [
    "# model 3 arbre de decisió\n",
    "dtc = DecisionTreeClassifier()\n",
    "# entrenamos el modelo\n",
    "dtc = dtc.fit(X_train, y_train)\n",
    "# realitzem les prediccions\n",
    "y_pred_dtc = dtc.predict(X_test)"
   ]
  },
  {
   "cell_type": "markdown",
   "id": "ccb68dce",
   "metadata": {},
   "source": [
    "Exercici 2. Compara els models de classificació utilitzant la precisió (accuracy), una matriu\n",
    "de confusió i d'altres mètriques més avançades."
   ]
  },
  {
   "cell_type": "markdown",
   "id": "2c53ee46",
   "metadata": {},
   "source": [
    "Vaig a fer una breu descripció de les mesures emprades:\n",
    "- matriu de confusió:\n",
    "- accuracy: fracció de predicciones que el model ha realitzat correctament.\n",
    "- precisió classificació: mostra cuantes prediccions son correctes.\n",
    "- recall: com és de bó el model per predir les classes positives.\n",
    "- f1- score: el promig ponderat de precisió i recuperació.\n",
    "- especificitat: proporció de les clases negatives que es prediuen correctament.\n"
   ]
  },
  {
   "cell_type": "markdown",
   "id": "e6b1b319",
   "metadata": {},
   "source": [
    "## matrius de confusió"
   ]
  },
  {
   "cell_type": "code",
   "execution_count": 10,
   "id": "d1079931",
   "metadata": {},
   "outputs": [],
   "source": [
    "# comparem models amb accuracy\n",
    "# model 1\n",
    "acc_clf = (clf.score(X_test, y_test)).round(2)\n",
    "# model 2\n",
    "acc_knb = (knb.score(X_test, y_test)).round(2)\n",
    "# model 3\n",
    "acc_dtc = (dtc.score(X_test, y_test)).round(2)"
   ]
  },
  {
   "cell_type": "markdown",
   "id": "9dae9ca3",
   "metadata": {},
   "source": [
    "## model 1"
   ]
  },
  {
   "cell_type": "code",
   "execution_count": 11,
   "id": "a6eef11e",
   "metadata": {},
   "outputs": [
    {
     "name": "stdout",
     "output_type": "stream",
     "text": [
      "[[23  0  0]\n",
      " [ 1 18  0]\n",
      " [ 0  1 11]]\n"
     ]
    }
   ],
   "source": [
    "# matriu de confusió model 1\n",
    "confusion_clf = metrics.confusion_matrix(y_test, y_pred_clf)\n",
    "print(confusion_clf)\n"
   ]
  },
  {
   "cell_type": "code",
   "execution_count": 12,
   "id": "56d79ad0",
   "metadata": {},
   "outputs": [
    {
     "name": "stderr",
     "output_type": "stream",
     "text": [
      "C:\\Users\\imber\\anaconda3\\lib\\site-packages\\sklearn\\utils\\deprecation.py:87: FutureWarning: Function plot_confusion_matrix is deprecated; Function `plot_confusion_matrix` is deprecated in 1.0 and will be removed in 1.2. Use one of the class methods: ConfusionMatrixDisplay.from_predictions or ConfusionMatrixDisplay.from_estimator.\n",
      "  warnings.warn(msg, category=FutureWarning)\n"
     ]
    },
    {
     "data": {
      "image/png": "[encoded data removed]",
      "text/plain": [
       "<Figure size 432x288 with 2 Axes>"
      ]
     },
     "metadata": {
      "needs_background": "light"
     },
     "output_type": "display_data"
    }
   ],
   "source": [
    "disp = plot_confusion_matrix(clf, X_test, y_test,\n",
    "                            cmap = plt.cm.Blues)"
   ]
  },
  {
   "cell_type": "code",
   "execution_count": 13,
   "id": "cd55afe8",
   "metadata": {},
   "outputs": [
    {
     "name": "stdout",
     "output_type": "stream",
     "text": [
      "precisió 0.97 recall 0.95 Especificitat 0.98 F1 0.96\n"
     ]
    }
   ],
   "source": [
    "FP = confusion_clf.sum(axis = 0) - np.diag(confusion_clf)\n",
    "FN = confusion_clf.sum(axis = 1) - np.diag(confusion_clf)\n",
    "TP = np.diag(confusion_clf)\n",
    "TN = confusion_clf.sum() - (FP + FN + TP)\n",
    "\n",
    "FP = FP.astype(float)\n",
    "FN = FN.astype(float)\n",
    "TP = TP.astype(float)\n",
    "TN = TN.astype(float)\n",
    "# això calcularà les dades de cada classe, per saber el conjunt faré la mitja.\n",
    "# Sensitivitat o recall (True positive rate)\n",
    "TPR_clf = np.mean((TP / (TP + FN))).round(2)\n",
    "# Especificitat (True negative rate)\n",
    "TNR_clf = np.mean(TN / (TN + FP)).round(2)\n",
    "# Precisió (Positive predictive value)\n",
    "PPV_clf = np.mean(TP/ (TP + FP)).round(2)\n",
    "# F1-score\n",
    "F1_clf = 2 * ((PPV_clf * TPR_clf)/(PPV_clf + TPR_clf)).round(2)\n",
    "\n",
    "print('precisió', PPV_clf,'recall', TPR_clf, 'Especificitat', TNR_clf, 'F1', F1_clf)\n"
   ]
  },
  {
   "cell_type": "code",
   "execution_count": 14,
   "id": "b29ad483",
   "metadata": {},
   "outputs": [
    {
     "name": "stdout",
     "output_type": "stream",
     "text": [
      "              precision    recall  f1-score   support\n",
      "\n",
      "           1       0.96      1.00      0.98        23\n",
      "           2       0.95      0.95      0.95        19\n",
      "           3       1.00      0.92      0.96        12\n",
      "\n",
      "    accuracy                           0.96        54\n",
      "   macro avg       0.97      0.95      0.96        54\n",
      "weighted avg       0.96      0.96      0.96        54\n",
      "\n"
     ]
    }
   ],
   "source": [
    "# per comprovar que els càlculs son correctes utilitzo classification_report i miro els resultats avg.\n",
    "print(classification_report(y_test, y_pred_clf))"
   ]
  },
  {
   "cell_type": "markdown",
   "id": "3bd0806f",
   "metadata": {},
   "source": [
    "## Model 2"
   ]
  },
  {
   "cell_type": "code",
   "execution_count": 15,
   "id": "28b0569f",
   "metadata": {},
   "outputs": [],
   "source": [
    "# matriu de confusió model 2"
   ]
  },
  {
   "cell_type": "code",
   "execution_count": 16,
   "id": "6077b129",
   "metadata": {},
   "outputs": [
    {
     "name": "stdout",
     "output_type": "stream",
     "text": [
      "[[18  0  5]\n",
      " [ 1 13  5]\n",
      " [ 0  7  5]]\n"
     ]
    }
   ],
   "source": [
    "confusion_knb = metrics.confusion_matrix(y_test, y_pred_knb)\n",
    "print(confusion_knb)"
   ]
  },
  {
   "cell_type": "code",
   "execution_count": 17,
   "id": "0dc042b5",
   "metadata": {},
   "outputs": [
    {
     "name": "stderr",
     "output_type": "stream",
     "text": [
      "C:\\Users\\imber\\anaconda3\\lib\\site-packages\\sklearn\\utils\\deprecation.py:87: FutureWarning: Function plot_confusion_matrix is deprecated; Function `plot_confusion_matrix` is deprecated in 1.0 and will be removed in 1.2. Use one of the class methods: ConfusionMatrixDisplay.from_predictions or ConfusionMatrixDisplay.from_estimator.\n",
      "  warnings.warn(msg, category=FutureWarning)\n"
     ]
    },
    {
     "data": {
      "image/png": "[encoded data removed]",
      "text/plain": [
       "<Figure size 432x288 with 2 Axes>"
      ]
     },
     "metadata": {
      "needs_background": "light"
     },
     "output_type": "display_data"
    }
   ],
   "source": [
    "disp = plot_confusion_matrix(knb, X_test, y_test,\n",
    "                            cmap = plt.cm.Blues)"
   ]
  },
  {
   "cell_type": "code",
   "execution_count": 18,
   "id": "a55c0bfb",
   "metadata": {},
   "outputs": [
    {
     "name": "stdout",
     "output_type": "stream",
     "text": [
      "precisió 0.64 recall 0.63 Especificitat 0.87 F1 0.634\n"
     ]
    }
   ],
   "source": [
    "FP_knb = confusion_knb.sum(axis = 0) - np.diag(confusion_knb)\n",
    "FN_knb = confusion_knb.sum(axis = 1) - np.diag(confusion_knb)\n",
    "TP_knb = np.diag(confusion_knb)\n",
    "TN_knb = confusion_knb.sum() - (FP + FN + TP)\n",
    "\n",
    "FP_knb = FP_knb.astype(float)\n",
    "FN_knb = FN_knb.astype(float)\n",
    "TP_knb = TP_knb.astype(float)\n",
    "TN_knb = TN_knb.astype(float)\n",
    "# això calcularà les dades de cada classe, per saber el conjunt faré la mitja.\n",
    "# Sensitivitat o recall (True positive rate)\n",
    "TPR_knb = np.mean((TP_knb / (TP_knb + FN_knb))).round(2)\n",
    "# Especificitat (True negative rate)\n",
    "TNR_knb = np.mean(TN_knb / (TN_knb + FP_knb)).round(2)\n",
    "# Precisió (Positive predictive value)\n",
    "PPV_knb = np.mean(TP_knb / (TP_knb + FP_knb)).round(2)\n",
    "# F1-score\n",
    "F1_knb = 2 * ((PPV_knb * TPR_knb)/(PPV_knb + TPR_knb)).round(3)\n",
    "\n",
    "print('precisió', PPV_knb,'recall', TPR_knb, 'Especificitat', TNR_knb, 'F1', F1_knb)\n"
   ]
  },
  {
   "cell_type": "code",
   "execution_count": 19,
   "id": "c003200a",
   "metadata": {},
   "outputs": [
    {
     "name": "stdout",
     "output_type": "stream",
     "text": [
      "              precision    recall  f1-score   support\n",
      "\n",
      "           1       0.95      0.78      0.86        23\n",
      "           2       0.65      0.68      0.67        19\n",
      "           3       0.33      0.42      0.37        12\n",
      "\n",
      "    accuracy                           0.67        54\n",
      "   macro avg       0.64      0.63      0.63        54\n",
      "weighted avg       0.71      0.67      0.68        54\n",
      "\n"
     ]
    }
   ],
   "source": [
    "# per comprovar que els càlculs son correctes utilitzo classification_report i miro els resultats avg.\n",
    "print(classification_report(y_test, y_pred_knb))"
   ]
  },
  {
   "cell_type": "markdown",
   "id": "7b4e5176",
   "metadata": {},
   "source": [
    "## model 3"
   ]
  },
  {
   "cell_type": "code",
   "execution_count": 20,
   "id": "71847408",
   "metadata": {},
   "outputs": [
    {
     "name": "stdout",
     "output_type": "stream",
     "text": [
      "[[22  1  0]\n",
      " [ 0 18  1]\n",
      " [ 0  0 12]]\n"
     ]
    }
   ],
   "source": [
    "confusion_dtc = metrics.confusion_matrix(y_test, y_pred_dtc)\n",
    "print(confusion_dtc)"
   ]
  },
  {
   "cell_type": "code",
   "execution_count": 21,
   "id": "7f92da5a",
   "metadata": {
    "scrolled": true
   },
   "outputs": [
    {
     "name": "stdout",
     "output_type": "stream",
     "text": [
      "precisió 0.96 recall 0.97 Especificitat 0.98 F1 0.964\n"
     ]
    }
   ],
   "source": [
    "FP_dtc = confusion_dtc.sum(axis = 0) - np.diag(confusion_dtc)\n",
    "FN_dtc = confusion_dtc.sum(axis = 1) - np.diag(confusion_dtc)\n",
    "TP_dtc = np.diag(confusion_dtc)\n",
    "TN_dtc = confusion_dtc.sum() - (FP + FN + TP)\n",
    "\n",
    "FP_dtc = FP_dtc.astype(float)\n",
    "FN_dtc = FN_dtc.astype(float)\n",
    "TP_dtc = TP_dtc.astype(float)\n",
    "TN_dtc = TN_dtc.astype(float)\n",
    "# això calcularà les dades de cada classe, per saber el conjunt faré la mitja.\n",
    "# Sensitivitat o recall (True positive rate)\n",
    "TPR_dtc = np.mean((TP_dtc / (TP_dtc + FN_dtc))).round(2)\n",
    "# Especificitat (True negative rate)\n",
    "TNR_dtc = np.mean(TN_dtc / (TN_dtc + FP_dtc)).round(2)\n",
    "# Precisió (Positive predictive value)\n",
    "PPV_dtc = np.mean(TP_dtc / (TP_dtc + FP_dtc)).round(2)\n",
    "# F1-score\n",
    "F1_dtc = 2 * ((PPV_dtc * TPR_dtc)/(PPV_dtc + TPR_dtc)).round(3)\n",
    "\n",
    "print('precisió', PPV_dtc,'recall', TPR_dtc, 'Especificitat', TNR_dtc, 'F1', F1_dtc)"
   ]
  },
  {
   "cell_type": "code",
   "execution_count": 22,
   "id": "febda9c1",
   "metadata": {},
   "outputs": [
    {
     "name": "stdout",
     "output_type": "stream",
     "text": [
      "              precision    recall  f1-score   support\n",
      "\n",
      "           1       1.00      0.96      0.98        23\n",
      "           2       0.95      0.95      0.95        19\n",
      "           3       0.92      1.00      0.96        12\n",
      "\n",
      "    accuracy                           0.96        54\n",
      "   macro avg       0.96      0.97      0.96        54\n",
      "weighted avg       0.96      0.96      0.96        54\n",
      "\n"
     ]
    }
   ],
   "source": [
    "print(classification_report(y_test, y_pred_dtc))"
   ]
  },
  {
   "cell_type": "code",
   "execution_count": 23,
   "id": "23b56169",
   "metadata": {
    "scrolled": true
   },
   "outputs": [
    {
     "name": "stdout",
     "output_type": "stream",
     "text": [
      "------------------------  --------  --------------  ------  --------  -------------\n",
      "model                     Accuracy  P.Clasificació  Recall  F1-score  Especificitat\n",
      "Support Vector Machine    0.96      0.97            0.95    0.96      0.98\n",
      "Veïns propers             0.67      0.64            0.63    0.634     0.87\n",
      "Decision Tree Classifier  0.96      0.96            0.97    0.964     0.98\n",
      "------------------------  --------  --------------  ------  --------  -------------\n"
     ]
    }
   ],
   "source": [
    "table = [['model','Accuracy','P.Clasificació','Recall','F1-score','Especificitat'],\n",
    "        ['Support Vector Machine', acc_clf, PPV_clf, TPR_clf, F1_clf ,TNR_clf],\n",
    "        ['Veïns propers', acc_knb, PPV_knb, TPR_knb, F1_knb, TNR_knb],\n",
    "        ['Decision Tree Classifier', acc_dtc, PPV_dtc, TPR_dtc, F1_dtc, TNR_dtc]]\n",
    "         \n",
    "print(tabulate(table))"
   ]
  },
  {
   "cell_type": "markdown",
   "id": "9e9e43a6",
   "metadata": {},
   "source": [
    "Com veiem a la taula el model que pitjor prediu és el de veïns propers, i el millor estaria\n",
    "entre SVM i Decision Tree Classifier."
   ]
  },
  {
   "cell_type": "markdown",
   "id": "f1043949",
   "metadata": {},
   "source": [
    "Exercici 3. Entrena'ls usand els diferents paràmetres que admeten per tal de millorar-ne\n",
    "la predicció"
   ]
  },
  {
   "cell_type": "markdown",
   "id": "ce310ec0",
   "metadata": {},
   "source": [
    "## Entrenament model 1"
   ]
  },
  {
   "cell_type": "code",
   "execution_count": 24,
   "id": "75c131fc",
   "metadata": {},
   "outputs": [
    {
     "name": "stdout",
     "output_type": "stream",
     "text": [
      "els millors paràmetres: 0.736275 using {'C': 50, 'gamma': 'scale', 'kernel': 'rbf'}\n"
     ]
    }
   ],
   "source": [
    "# model 1\n",
    "clf = svm.SVC()\n",
    "# definim els paràmetres a triar\n",
    "kernel = ['poly','rbf','sigmoid']\n",
    "C = [50, 10, 1.0, 0.1, 0.01]\n",
    "gamma = ['scale']\n",
    "# definim la xarxa de recerca\n",
    "grid = dict(kernel = kernel, C=C, gamma = gamma)\n",
    "cv = RepeatedStratifiedKFold(n_splits = 10, n_repeats = 3, random_state = 1)\n",
    "grid_search = GridSearchCV(estimator = clf, param_grid = grid, n_jobs = -1, cv = cv, scoring = 'accuracy', error_score = 0)\n",
    "grid_result = grid_search.fit(X, y.values.ravel())\n",
    "# resumim resultats\n",
    "print(\"els millors paràmetres: %f using %s\" % (grid_result.best_score_, grid_result.best_params_))\n"
   ]
  },
  {
   "cell_type": "code",
   "execution_count": 25,
   "id": "fb793a6a",
   "metadata": {},
   "outputs": [],
   "source": [
    "# apliquem els millors paràmetres al model:\n",
    "clf_2 = svm.SVC(kernel = 'rbf', C = 50, gamma = 'scale')\n",
    "# entrenem el model\n",
    "clf_2.fit(X_train, y_train.values.ravel())\n",
    "# realitzem les prediccions\n",
    "y_pred_clf_2 = clf_2.predict(X_test)"
   ]
  },
  {
   "cell_type": "code",
   "execution_count": 26,
   "id": "9af36d3b",
   "metadata": {},
   "outputs": [
    {
     "name": "stdout",
     "output_type": "stream",
     "text": [
      "0.722\n"
     ]
    }
   ],
   "source": [
    "acc_clf_2 = (clf_2.score(X_test, y_test)).round(3)\n",
    "print(acc_clf_2)"
   ]
  },
  {
   "cell_type": "code",
   "execution_count": 27,
   "id": "d4ae027c",
   "metadata": {},
   "outputs": [
    {
     "name": "stdout",
     "output_type": "stream",
     "text": [
      "[[18  0  5]\n",
      " [ 1 13  5]\n",
      " [ 0  4  8]]\n"
     ]
    }
   ],
   "source": [
    "confusion_clf_2 = metrics.confusion_matrix(y_test, y_pred_clf_2)\n",
    "print(confusion_clf_2)\n"
   ]
  },
  {
   "cell_type": "code",
   "execution_count": 28,
   "id": "503dcfe1",
   "metadata": {},
   "outputs": [
    {
     "name": "stdout",
     "output_type": "stream",
     "text": [
      "precisió 0.72 recall 0.71 Especificitat 0.87 F1 0.714\n"
     ]
    }
   ],
   "source": [
    "FP = confusion_clf_2.sum(axis = 0) - np.diag(confusion_clf_2)\n",
    "FN = confusion_clf_2.sum(axis = 1) - np.diag(confusion_clf_2)\n",
    "TP = np.diag(confusion_clf_2)\n",
    "TN = confusion_clf_2.sum() - (FP + FN + TP)\n",
    "\n",
    "FP = FP.astype(float)\n",
    "FN = FN.astype(float)\n",
    "TP = TP.astype(float)\n",
    "TN = TN.astype(float)\n",
    "# això calcularà les dades de cada classe, per saber el conjunt faré la mitja.\n",
    "# Sensitivitat o recall (True positive rate)\n",
    "TPR_clf_2 = np.mean((TP / (TP + FN))).round(2)\n",
    "# Especificitat (True negative rate)\n",
    "TNR_clf_2 = np.mean(TN / (TN + FP)).round(2)\n",
    "# Precisió (Positive predictive value)\n",
    "PPV_clf_2 = np.mean(TP/ (TP + FP)).round(2)\n",
    "# F1-score\n",
    "F1_clf_2 = 2 * ((PPV_clf_2 * TPR_clf_2)/(PPV_clf_2 + TPR_clf_2)).round(3)\n",
    "\n",
    "print('precisió', PPV_clf_2,'recall', TPR_clf_2, 'Especificitat', TNR_clf_2, 'F1', F1_clf_2)"
   ]
  },
  {
   "cell_type": "code",
   "execution_count": 29,
   "id": "9490ed02",
   "metadata": {},
   "outputs": [
    {
     "name": "stdout",
     "output_type": "stream",
     "text": [
      "              precision    recall  f1-score   support\n",
      "\n",
      "           1       0.95      0.78      0.86        23\n",
      "           2       0.76      0.68      0.72        19\n",
      "           3       0.44      0.67      0.53        12\n",
      "\n",
      "    accuracy                           0.72        54\n",
      "   macro avg       0.72      0.71      0.70        54\n",
      "weighted avg       0.77      0.72      0.74        54\n",
      "\n"
     ]
    }
   ],
   "source": [
    "print(classification_report(y_test, y_pred_clf_2))"
   ]
  },
  {
   "cell_type": "code",
   "execution_count": 30,
   "id": "b5a930ff",
   "metadata": {
    "scrolled": true
   },
   "outputs": [
    {
     "name": "stdout",
     "output_type": "stream",
     "text": [
      "---------------------------------  --------  --------------  ------  --------  -------------\n",
      "model                              Accuracy  P.Clasificació  Recall  F1-score  Especificitat\n",
      "Support Vector Machine             0.96      0.97            0.95    0.96      0.98\n",
      "Support Vector Machine optimitzat  0.722     0.72            0.71    0.714     0.87\n",
      "---------------------------------  --------  --------------  ------  --------  -------------\n"
     ]
    }
   ],
   "source": [
    "table_clf_compare = [['model','Accuracy','P.Clasificació','Recall','F1-score','Especificitat'],\n",
    "                    ['Support Vector Machine', acc_clf, PPV_clf, TPR_clf, F1_clf ,TNR_clf ],\n",
    "                    ['Support Vector Machine optimitzat', acc_clf_2, PPV_clf_2, TPR_clf_2, F1_clf_2,TNR_clf_2  ]]\n",
    "print(tabulate(table_clf_compare))"
   ]
  },
  {
   "cell_type": "markdown",
   "id": "043d4247",
   "metadata": {},
   "source": [
    "## Entrenament model 2"
   ]
  },
  {
   "cell_type": "code",
   "execution_count": 31,
   "id": "51cca91a",
   "metadata": {},
   "outputs": [
    {
     "name": "stdout",
     "output_type": "stream",
     "text": [
      "el millors paràmetres: 0.809365 using {'metric': 'manhattan', 'n_neighbors': 1, 'weights': 'uniform'}\n"
     ]
    }
   ],
   "source": [
    "# model 2\n",
    "# busquem els millors paràmetres\n",
    "knb = KNeighborsClassifier()\n",
    "# definim paràmetres\n",
    "n_neighbors = range(1, 21, 2)\n",
    "weights = ['uniform', 'distance']\n",
    "metric = ['euclidean', 'manhattan','minkowski']\n",
    "# definim la xarxa de recerca\n",
    "grid = dict(n_neighbors = n_neighbors, weights = weights, metric = metric)\n",
    "cv = RepeatedStratifiedKFold(n_splits = 10, n_repeats = 3, random_state = 1)\n",
    "grid_search = GridSearchCV(estimator = knb, param_grid = grid, n_jobs = -1, scoring = 'accuracy', error_score = 0)\n",
    "grid_result = grid_search.fit(X,y.values.ravel())\n",
    "# resumim resultats\n",
    "print(\"el millors paràmetres: %f using %s\" % (grid_result.best_score_, grid_result.best_params_))\n"
   ]
  },
  {
   "cell_type": "code",
   "execution_count": 32,
   "id": "dc3d4a30",
   "metadata": {},
   "outputs": [],
   "source": [
    "# utilitzem els paràmetres millors del model 2\n",
    "knb_2 = KNeighborsClassifier(n_neighbors = 1, metric = 'manhattan', weights = 'uniform')\n",
    "# entrenem el model\n",
    "knb_2.fit(X_train, y_train.values.ravel())\n",
    "# fem les prediccions\n",
    "y_pred_knb_2 = knb_2.predict(X_test)"
   ]
  },
  {
   "cell_type": "code",
   "execution_count": 33,
   "id": "2025b8a2",
   "metadata": {
    "scrolled": true
   },
   "outputs": [
    {
     "name": "stdout",
     "output_type": "stream",
     "text": [
      "0.796\n"
     ]
    }
   ],
   "source": [
    "# mirem accuracy\n",
    "acc_knb_2 = (knb_2.score(X_test, y_test)).round(3)\n",
    "print(acc_knb_2)"
   ]
  },
  {
   "cell_type": "code",
   "execution_count": 34,
   "id": "a3abe096",
   "metadata": {},
   "outputs": [
    {
     "name": "stdout",
     "output_type": "stream",
     "text": [
      "[[21  1  1]\n",
      " [ 1 15  3]\n",
      " [ 0  5  7]]\n"
     ]
    }
   ],
   "source": [
    "# mirem la matriu de confusió\n",
    "confusion_knb_2 = metrics.confusion_matrix(y_test, y_pred_knb_2)\n",
    "print(confusion_knb_2)"
   ]
  },
  {
   "cell_type": "code",
   "execution_count": 35,
   "id": "4c0b948f",
   "metadata": {},
   "outputs": [
    {
     "name": "stdout",
     "output_type": "stream",
     "text": [
      "precisió 0.77 recall 0.76 Especificitat 0.9 F1 0.764\n"
     ]
    }
   ],
   "source": [
    "FP = confusion_knb_2.sum(axis = 0) - np.diag(confusion_knb_2)\n",
    "FN = confusion_knb_2.sum(axis = 1) - np.diag(confusion_knb_2)\n",
    "TP = np.diag(confusion_knb_2)\n",
    "TN = confusion_knb_2.sum() - (FP + FN + TP)\n",
    "\n",
    "FP = FP.astype(float)\n",
    "FN = FN.astype(float)\n",
    "TP = TP.astype(float)\n",
    "TN = TN.astype(float)\n",
    "# això calcularà les dades de cada classe, per saber el conjunt faré la mitja.\n",
    "# Sensitivitat o recall (True positive rate)\n",
    "TPR_knb_2 = np.mean((TP / (TP + FN))).round(2)\n",
    "# Especificitat (True negative rate)\n",
    "TNR_knb_2 = np.mean(TN / (TN + FP)).round(2)\n",
    "# Precisió (Positive predictive value)\n",
    "PPV_knb_2 = np.mean(TP/ (TP + FP)).round(2)\n",
    "# F1-score\n",
    "F1_knb_2 = 2 * ((PPV_knb_2 * TPR_knb_2)/(PPV_knb_2 + TPR_knb_2)).round(3)\n",
    "\n",
    "print('precisió', PPV_knb_2,'recall', TPR_knb_2, 'Especificitat', TNR_knb_2, 'F1', F1_knb_2)"
   ]
  },
  {
   "cell_type": "code",
   "execution_count": 36,
   "id": "21ff1d05",
   "metadata": {
    "scrolled": true
   },
   "outputs": [
    {
     "name": "stdout",
     "output_type": "stream",
     "text": [
      "              precision    recall  f1-score   support\n",
      "\n",
      "           1       0.95      0.91      0.93        23\n",
      "           2       0.71      0.79      0.75        19\n",
      "           3       0.64      0.58      0.61        12\n",
      "\n",
      "    accuracy                           0.80        54\n",
      "   macro avg       0.77      0.76      0.76        54\n",
      "weighted avg       0.80      0.80      0.80        54\n",
      "\n"
     ]
    }
   ],
   "source": [
    "print(classification_report(y_test, y_pred_knb_2))"
   ]
  },
  {
   "cell_type": "code",
   "execution_count": 37,
   "id": "d5e821c8",
   "metadata": {
    "scrolled": true
   },
   "outputs": [
    {
     "name": "stdout",
     "output_type": "stream",
     "text": [
      "------------------------  --------  --------------  ------  --------  -------------\n",
      "model                     Accuracy  P.Clasificació  Recall  F1-score  Especificitat\n",
      "Veïns propers             0.67      0.64            0.63    0.634     0.87\n",
      "Veïns propers optimitzat  0.796     0.77            0.76    0.764     0.9\n",
      "------------------------  --------  --------------  ------  --------  -------------\n"
     ]
    }
   ],
   "source": [
    "table_knb_compare = [['model','Accuracy','P.Clasificació','Recall','F1-score','Especificitat'],\n",
    "                    ['Veïns propers', acc_knb, PPV_knb, TPR_knb, F1_knb, TNR_knb ],\n",
    "                    ['Veïns propers optimitzat', acc_knb_2, PPV_knb_2, TPR_knb_2, F1_knb_2, TNR_knb_2]]\n",
    "print(tabulate(table_knb_compare))"
   ]
  },
  {
   "cell_type": "markdown",
   "id": "c10242c9",
   "metadata": {},
   "source": [
    "## Entrenament model 3"
   ]
  },
  {
   "cell_type": "code",
   "execution_count": 38,
   "id": "d22c6f4c",
   "metadata": {},
   "outputs": [
    {
     "name": "stdout",
     "output_type": "stream",
     "text": [
      "el millors paràmetres: 0.916508 using {'criterion': 'entropy', 'max_depth': 3, 'min_samples_leaf': 5, 'min_samples_split': 5, 'splitter': 'best'}\n"
     ]
    }
   ],
   "source": [
    "# model 3 \n",
    "# busquem els millors paràmetres\n",
    "dtc = DecisionTreeClassifier()\n",
    "# definim paràmetres\n",
    "criterion = ['gini','entropy']\n",
    "splitter = ['best', 'random']\n",
    "max_depth = [2,3,5,10,20]\n",
    "min_samples_split = [5,10,20,50,100]\n",
    "min_samples_leaf = [5,10,20,50,100]\n",
    "# definim la xarxa de recerca\n",
    "grid = dict(criterion = criterion, splitter = splitter, max_depth = max_depth, min_samples_split = min_samples_split,\n",
    "           min_samples_leaf = min_samples_leaf)\n",
    "cv = RepeatedStratifiedKFold(n_splits = 10, n_repeats = 3, random_state = 1)\n",
    "grid_search = GridSearchCV(estimator = dtc, param_grid = grid, n_jobs = -1, scoring = 'accuracy', error_score = 0)\n",
    "grid_result = grid_search.fit(X,y.values.ravel())\n",
    "# resumim resultats\n",
    "print(\"el millors paràmetres: %f using %s\" % (grid_result.best_score_, grid_result.best_params_))"
   ]
  },
  {
   "cell_type": "code",
   "execution_count": 39,
   "id": "16c9d8db",
   "metadata": {},
   "outputs": [],
   "source": [
    "# utilitzem els paràmetres millors del model 3\n",
    "dtc_2 = DecisionTreeClassifier(criterion = 'gini', max_depth = 10, min_samples_leaf = 5, min_samples_split = 20, splitter = 'random')\n",
    "# entrenem el model\n",
    "dtc_2.fit(X_train, y_train.values.ravel())\n",
    "# fem les prediccions\n",
    "y_pred_dtc_2 = dtc_2.predict(X_test)"
   ]
  },
  {
   "cell_type": "code",
   "execution_count": 40,
   "id": "bf782657",
   "metadata": {},
   "outputs": [
    {
     "name": "stdout",
     "output_type": "stream",
     "text": [
      "0.907\n"
     ]
    }
   ],
   "source": [
    "# mirem accuracy\n",
    "acc_dtc_2 = (dtc_2.score(X_test, y_test)).round(3)\n",
    "print(acc_dtc_2)"
   ]
  },
  {
   "cell_type": "code",
   "execution_count": 41,
   "id": "82110d92",
   "metadata": {},
   "outputs": [
    {
     "name": "stdout",
     "output_type": "stream",
     "text": [
      "[[22  1  0]\n",
      " [ 1 18  0]\n",
      " [ 2  1  9]]\n"
     ]
    }
   ],
   "source": [
    "confusion_dtc_2 = metrics.confusion_matrix(y_test, y_pred_dtc_2)\n",
    "print(confusion_dtc_2)"
   ]
  },
  {
   "cell_type": "code",
   "execution_count": 42,
   "id": "3b80099b",
   "metadata": {
    "scrolled": true
   },
   "outputs": [
    {
     "name": "stdout",
     "output_type": "stream",
     "text": [
      "precisió 0.93 recall 0.88 Especificitat 0.95 F1 0.904\n"
     ]
    }
   ],
   "source": [
    "FP = confusion_dtc_2.sum(axis = 0) - np.diag(confusion_dtc_2)\n",
    "FN = confusion_dtc_2.sum(axis = 1) - np.diag(confusion_dtc_2)\n",
    "TP = np.diag(confusion_dtc_2)\n",
    "TN = confusion_dtc_2.sum() - (FP + FN + TP)\n",
    "\n",
    "FP = FP.astype(float)\n",
    "FN = FN.astype(float)\n",
    "TP = TP.astype(float)\n",
    "TN = TN.astype(float)\n",
    "# això calcularà les dades de cada classe, per saber el conjunt faré la mitja.\n",
    "# Sensitivitat o recall (True positive rate)\n",
    "TPR_dtc_2 = np.mean((TP / (TP + FN))).round(2)\n",
    "# Especificitat (True negative rate)\n",
    "TNR_dtc_2 = np.mean(TN / (TN + FP)).round(2)\n",
    "# Precisió (Positive predictive value)\n",
    "PPV_dtc_2 = np.mean(TP/ (TP + FP)).round(2)\n",
    "# F1-score\n",
    "F1_dtc_2 = 2 * ((PPV_dtc_2 * TPR_dtc_2)/(PPV_dtc_2 + TPR_dtc_2)).round(3)\n",
    "\n",
    "print('precisió', PPV_dtc_2,'recall', TPR_dtc_2, 'Especificitat', TNR_dtc_2, 'F1', F1_dtc_2)"
   ]
  },
  {
   "cell_type": "code",
   "execution_count": 43,
   "id": "479cd2f7",
   "metadata": {},
   "outputs": [
    {
     "name": "stdout",
     "output_type": "stream",
     "text": [
      "              precision    recall  f1-score   support\n",
      "\n",
      "           1       0.88      0.96      0.92        23\n",
      "           2       0.90      0.95      0.92        19\n",
      "           3       1.00      0.75      0.86        12\n",
      "\n",
      "    accuracy                           0.91        54\n",
      "   macro avg       0.93      0.88      0.90        54\n",
      "weighted avg       0.91      0.91      0.91        54\n",
      "\n"
     ]
    }
   ],
   "source": [
    "# per comprovar fem el report\n",
    "print(classification_report(y_test, y_pred_dtc_2))"
   ]
  },
  {
   "cell_type": "code",
   "execution_count": 44,
   "id": "94990717",
   "metadata": {
    "scrolled": false
   },
   "outputs": [
    {
     "name": "stdout",
     "output_type": "stream",
     "text": [
      "-----------------------------------  --------  --------------  ------  --------  -------------\n",
      "model                                Accuracy  P.Clasificació  Recall  F1-score  Especificitat\n",
      "Support Vector Machine               0.96      0.97            0.95    0.96      0.98\n",
      "Support Vector Machine optimitzat    0.722     0.72            0.71    0.714     0.87\n",
      "Veïns propers                        0.67      0.64            0.63    0.634     0.87\n",
      "Veïns propers optimitzat             0.796     0.77            0.76    0.764     0.9\n",
      "Decision tree classifier             0.96      0.96            0.97    0.964     0.98\n",
      "Decision tree classifier optimitzat  0.907     0.93            0.88    0.904     0.95\n",
      "-----------------------------------  --------  --------------  ------  --------  -------------\n"
     ]
    }
   ],
   "source": [
    "# Si adjuntem els dos models optimitzats\n",
    "table_total_compare = [['model','Accuracy','P.Clasificació','Recall','F1-score','Especificitat'],\n",
    "                    ['Support Vector Machine', acc_clf, PPV_clf, TPR_clf, F1_clf ,TNR_clf ],\n",
    "                    ['Support Vector Machine optimitzat', acc_clf_2, PPV_clf_2, TPR_clf_2, F1_clf_2,TNR_clf_2  ],\n",
    "                    ['Veïns propers', acc_knb, PPV_knb, TPR_knb, F1_knb, TNR_knb ],\n",
    "                    ['Veïns propers optimitzat', acc_knb_2, PPV_knb_2, TPR_knb_2, F1_knb_2, TNR_knb_2],\n",
    "                    ['Decision tree classifier', acc_dtc, PPV_dtc, TPR_dtc, F1_dtc, TNR_dtc],\n",
    "                    ['Decision tree classifier optimitzat', acc_dtc_2, PPV_dtc_2, TPR_dtc_2, F1_dtc_2, TNR_dtc_2]\n",
    "                      ]\n",
    "print(tabulate(table_total_compare))"
   ]
  },
  {
   "cell_type": "markdown",
   "id": "247d5123",
   "metadata": {},
   "source": [
    "Optimitzant els models veiem que el de Veïns propers millora les seves dades pero els altrs dos empitjoren, SVM en major mesura que DTC, es possible que trobem un sobreajust i per això abans teniem resultats massa bons."
   ]
  },
  {
   "cell_type": "markdown",
   "id": "e8d79406",
   "metadata": {},
   "source": [
    "Exercici 4. Compara el seu rendiment fent servir l'aproximació train/test o cross-validation"
   ]
  },
  {
   "cell_type": "code",
   "execution_count": 45,
   "id": "9a9967ba",
   "metadata": {},
   "outputs": [
    {
     "name": "stdout",
     "output_type": "stream",
     "text": [
      "Cross Validation Scores are [0.92307692 0.92307692 1.         0.84615385 1.         1.\n",
      " 1.         0.83333333 1.         0.83333333]\n",
      "Average Cross Validation score: 0.94\n"
     ]
    }
   ],
   "source": [
    "# model 1 sense optimitzar\n",
    "clf = svm.SVC(kernel = 'linear')\n",
    "kf = KFold(n_splits=10)\n",
    "score_1 = cross_val_score(clf, X_train, y_train.values.ravel(), cv = kf)\n",
    "score_1_mean = score_1.mean().round(2)\n",
    "print(\"Cross Validation Scores are {}\".format(score_1))\n",
    "print(\"Average Cross Validation score: {}\".format(score_1.mean().round(2)))"
   ]
  },
  {
   "cell_type": "code",
   "execution_count": 46,
   "id": "76bbcf20",
   "metadata": {},
   "outputs": [
    {
     "name": "stdout",
     "output_type": "stream",
     "text": [
      "Cross Validation Scores are [0.84615385 0.69230769 0.76923077 0.69230769 0.58333333 0.66666667\n",
      " 0.66666667 0.91666667 0.5        0.75      ]\n",
      "Average Cross Validation score: 0.71\n"
     ]
    }
   ],
   "source": [
    "# model 1 optimitzant\n",
    "clf_2 = svm.SVC(kernel = 'rbf', C = 50, gamma = 'scale')\n",
    "kf = KFold(n_splits=10)\n",
    "score_1_opt = cross_val_score(clf_2, X_train, y_train.values.ravel(), cv = kf)\n",
    "score_1_opt_mean = score_1_opt.mean().round(2)\n",
    "print(\"Cross Validation Scores are {}\".format(score_1_opt))\n",
    "print(\"Average Cross Validation score: {}\".format(score_1_opt.mean().round(2)))"
   ]
  },
  {
   "cell_type": "code",
   "execution_count": 47,
   "id": "d6f599f8",
   "metadata": {},
   "outputs": [
    {
     "name": "stdout",
     "output_type": "stream",
     "text": [
      "Cross Validation Scores are [0.61538462 0.69230769 0.69230769 0.61538462 0.66666667 0.66666667\n",
      " 0.83333333 0.91666667 0.33333333 0.41666667]\n",
      "Average Cross Validation score: 0.64\n"
     ]
    }
   ],
   "source": [
    "# model 2 sense optimitzar\n",
    "knb = KNeighborsClassifier(n_neighbors = 10)\n",
    "kf = KFold(n_splits=10)\n",
    "score_2 = cross_val_score(knb, X_train, y_train.values.ravel(), cv = kf)\n",
    "score_2_mean = score_2.mean().round(2)\n",
    "print(\"Cross Validation Scores are {}\".format(score_2))\n",
    "print(\"Average Cross Validation score: {}\".format(score_2.mean().round(2)))"
   ]
  },
  {
   "cell_type": "code",
   "execution_count": 48,
   "id": "2203fd8b",
   "metadata": {},
   "outputs": [
    {
     "name": "stdout",
     "output_type": "stream",
     "text": [
      "Cross Validation Scores are [0.84615385 0.84615385 0.92307692 0.76923077 0.66666667 0.83333333\n",
      " 0.83333333 1.         0.58333333 0.75      ]\n",
      "Average Cross Validation score: 0.81\n"
     ]
    }
   ],
   "source": [
    "# model 2 optimitzat\n",
    "knb_2 = KNeighborsClassifier(n_neighbors = 1, metric = 'manhattan', weights = 'uniform')\n",
    "kf = KFold(n_splits=10)\n",
    "score_2_opt = cross_val_score(knb_2, X_train, y_train.values.ravel(), cv = kf)\n",
    "score_2_opt_mean = score_2_opt.mean().round(2)\n",
    "print(\"Cross Validation Scores are {}\".format(score_2_opt))\n",
    "print(\"Average Cross Validation score: {}\".format(score_2_opt.mean().round(2)))"
   ]
  },
  {
   "cell_type": "code",
   "execution_count": 49,
   "id": "43f5c954",
   "metadata": {},
   "outputs": [
    {
     "name": "stdout",
     "output_type": "stream",
     "text": [
      "Cross Validation Scores are [0.84615385 0.84615385 1.         1.         0.91666667 0.91666667\n",
      " 0.91666667 0.91666667 1.         0.83333333]\n",
      "Average Cross Validation score: 0.92\n"
     ]
    }
   ],
   "source": [
    "# model 3 sense optimitzar\n",
    "dtc = DecisionTreeClassifier()\n",
    "kf = KFold(n_splits=10)\n",
    "score_3 = cross_val_score(dtc, X_train, y_train.values.ravel(), cv = kf)\n",
    "score_3_mean = score_3.mean().round(2)\n",
    "print(\"Cross Validation Scores are {}\".format(score_3))\n",
    "print(\"Average Cross Validation score: {}\".format(score_3.mean().round(2)))"
   ]
  },
  {
   "cell_type": "code",
   "execution_count": 50,
   "id": "da46c377",
   "metadata": {},
   "outputs": [
    {
     "name": "stdout",
     "output_type": "stream",
     "text": [
      "Cross Validation Scores are [0.92307692 0.92307692 1.         1.         0.91666667 0.91666667\n",
      " 0.91666667 1.         1.         0.83333333]\n",
      "Average Cross Validation score: 0.94\n"
     ]
    }
   ],
   "source": [
    "# model 3 optimitzat\n",
    "dtc_2 = DecisionTreeClassifier(criterion = 'gini', max_depth = 10, min_samples_leaf = 5, min_samples_split = 20, splitter = 'random')\n",
    "kf = KFold(n_splits=10)\n",
    "score_3_opt = cross_val_score(dtc, X_train, y_train.values.ravel(), cv = kf)\n",
    "score_3_opt_mean = score_3_opt.mean().round(2)\n",
    "print(\"Cross Validation Scores are {}\".format(score_3_opt))\n",
    "print(\"Average Cross Validation score: {}\".format(score_3_opt.mean().round(2)))"
   ]
  },
  {
   "cell_type": "markdown",
   "id": "c47eb844",
   "metadata": {},
   "source": [
    "Exercici 5. Aplica algun procés d'enginyeria per millorar els resultats (normalització, estandarització, mostreig...)"
   ]
  },
  {
   "cell_type": "markdown",
   "id": "d6c47535",
   "metadata": {},
   "source": [
    "## Estandarització"
   ]
  },
  {
   "cell_type": "markdown",
   "id": "ca1524d6",
   "metadata": {},
   "source": [
    "## model 1"
   ]
  },
  {
   "cell_type": "code",
   "execution_count": 51,
   "id": "f321e910",
   "metadata": {},
   "outputs": [],
   "source": [
    "# aplico procés d'estandarització amb l'standard Scaler.\n",
    "scaler = StandardScaler()\n",
    "# tranformo\n",
    "scaler = StandardScaler()\n",
    "\n",
    "scaler.fit(X_train)\n",
    "\n",
    "X_train = scaler.transform(X_train)\n",
    "X_test = scaler.transform(X_test)"
   ]
  },
  {
   "cell_type": "code",
   "execution_count": 52,
   "id": "fc50c3da",
   "metadata": {
    "scrolled": false
   },
   "outputs": [
    {
     "name": "stdout",
     "output_type": "stream",
     "text": [
      "accuracy aplicant estandarització 0.981\n"
     ]
    }
   ],
   "source": [
    "# model 1 svm\n",
    "# utilitzo les dades de l'exercici 3 que donaven una predicció millorada\n",
    "clf_2_opt = svm.SVC(kernel = 'rbf', C = 50, gamma = 'scale')\n",
    "# entrenem el model\n",
    "clf_2_opt.fit(X_train, y_train.values.ravel())\n",
    "# fem les prediccions\n",
    "y_pred_clf_2_opt = clf_2_opt.predict(X_test)\n",
    "# accuracy\n",
    "acc_clf_2_opt = (clf_2_opt.score(X_test, y_test)).round(3)\n",
    "print('accuracy aplicant estandarització', acc_clf_2_opt)\n"
   ]
  },
  {
   "cell_type": "code",
   "execution_count": 53,
   "id": "b8f5c1cc",
   "metadata": {},
   "outputs": [
    {
     "name": "stdout",
     "output_type": "stream",
     "text": [
      "[[23  0  0]\n",
      " [ 0 19  0]\n",
      " [ 0  1 11]]\n"
     ]
    }
   ],
   "source": [
    "# imprimim matriu de confusió\n",
    "confusion_clf_2_opt = metrics.confusion_matrix(y_test, y_pred_clf_2_opt)\n",
    "print(confusion_clf_2_opt)"
   ]
  },
  {
   "cell_type": "code",
   "execution_count": 54,
   "id": "8f96d4f8",
   "metadata": {
    "scrolled": true
   },
   "outputs": [
    {
     "name": "stdout",
     "output_type": "stream",
     "text": [
      "precisió 0.98 recall 0.97 Especificitat 0.99 F1 0.974\n"
     ]
    }
   ],
   "source": [
    "FP = confusion_clf_2_opt.sum(axis = 0) - np.diag(confusion_clf_2_opt)\n",
    "FN = confusion_clf_2_opt.sum(axis = 1) - np.diag(confusion_clf_2_opt)\n",
    "TP = np.diag(confusion_clf_2_opt)\n",
    "TN = confusion_clf_2_opt.sum() - (FP + FN + TP)\n",
    "\n",
    "FP = FP.astype(float)\n",
    "FN = FN.astype(float)\n",
    "TP = TP.astype(float)\n",
    "TN = TN.astype(float)\n",
    "# això calcularà les dades de cada classe, per saber el conjunt faré la mitja.\n",
    "# Sensitivitat o recall (True positive rate)\n",
    "TPR_clf_2_std = np.mean((TP / (TP + FN))).round(2)\n",
    "# Especificitat (True negative rate)\n",
    "TNR_clf_2_std = np.mean(TN / (TN + FP)).round(2)\n",
    "# Precisió (Positive predictive value)\n",
    "PPV_clf_2_std = np.mean(TP/ (TP + FP)).round(2)\n",
    "# F1-score\n",
    "F1_clf_2_std = 2 * ((PPV_clf_2_std * TPR_clf_2_std)/(PPV_clf_2_std + TPR_clf_2_std)).round(3)\n",
    "\n",
    "print('precisió', PPV_clf_2_std,'recall', TPR_clf_2_std, 'Especificitat', TNR_clf_2_std, 'F1', F1_clf_2_std)"
   ]
  },
  {
   "cell_type": "code",
   "execution_count": 55,
   "id": "b5862212",
   "metadata": {},
   "outputs": [
    {
     "name": "stdout",
     "output_type": "stream",
     "text": [
      "              precision    recall  f1-score   support\n",
      "\n",
      "           1       1.00      1.00      1.00        23\n",
      "           2       0.95      1.00      0.97        19\n",
      "           3       1.00      0.92      0.96        12\n",
      "\n",
      "    accuracy                           0.98        54\n",
      "   macro avg       0.98      0.97      0.98        54\n",
      "weighted avg       0.98      0.98      0.98        54\n",
      "\n"
     ]
    }
   ],
   "source": [
    "# comprovo amb els avg de classification report\n",
    "print(classification_report(y_test, y_pred_clf_2_opt))"
   ]
  },
  {
   "cell_type": "code",
   "execution_count": 56,
   "id": "e8f54adf",
   "metadata": {},
   "outputs": [
    {
     "name": "stdout",
     "output_type": "stream",
     "text": [
      "Cross Validation Scores are [1.         1.         1.         0.92307692 1.         0.91666667\n",
      " 1.         1.         1.         0.83333333]\n",
      "Average Cross Validation score: 0.97\n"
     ]
    }
   ],
   "source": [
    "# faig la validació creuada \n",
    "clf_2 = svm.SVC(kernel = 'rbf', C = 50, gamma = 'scale')\n",
    "kf = KFold(n_splits=10)\n",
    "score_1_opt_std = cross_val_score(clf_2, X_train, y_train.values.ravel(), cv = kf)\n",
    "score_1_opt_mean_std = score_1_opt_std.mean().round(2)\n",
    "print(\"Cross Validation Scores are {}\".format(score_1_opt_std))\n",
    "print(\"Average Cross Validation score: {}\".format(score_1_opt_std.mean().round(2)))"
   ]
  },
  {
   "cell_type": "markdown",
   "id": "d65614c1",
   "metadata": {},
   "source": [
    "## model 2"
   ]
  },
  {
   "cell_type": "code",
   "execution_count": 57,
   "id": "4a2b00f2",
   "metadata": {
    "scrolled": true
   },
   "outputs": [
    {
     "name": "stdout",
     "output_type": "stream",
     "text": [
      "accuracy aplicant estandarització 1.0\n",
      "[[23  0  0]\n",
      " [ 0 19  0]\n",
      " [ 0  0 12]]\n"
     ]
    }
   ],
   "source": [
    "# model 2 veïns més propers\n",
    "# utilitzo les dades de l'exercici 3 que donaven una predicció millorada.\n",
    "knb_2_opt = KNeighborsClassifier(n_neighbors = 1, metric = 'manhattan', weights = 'uniform')\n",
    "# entrenem el model\n",
    "knb_2_opt.fit(X_train, y_train.values.ravel())\n",
    "# fem les prediccions\n",
    "y_pred_knb_opt = knb_2_opt.predict(X_test)\n",
    "# accuracy\n",
    "acc_knb_2_opt = (knb_2_opt.score(X_test, y_test)).round(3)\n",
    "print('accuracy aplicant estandarització',acc_knb_2_opt)\n",
    "# imprimim matriu de confusió\n",
    "confusion_knb_2_opt = metrics.confusion_matrix(y_test, y_pred_knb_opt)\n",
    "print(confusion_knb_2_opt)\n"
   ]
  },
  {
   "cell_type": "code",
   "execution_count": 58,
   "id": "f40c6ee8",
   "metadata": {
    "scrolled": true
   },
   "outputs": [
    {
     "name": "stdout",
     "output_type": "stream",
     "text": [
      "precisió 1.0 recall 1.0 Especificitat 1.0 F1 1.0\n"
     ]
    }
   ],
   "source": [
    "FP = confusion_knb_2_opt.sum(axis = 0) - np.diag(confusion_knb_2_opt)\n",
    "FN = confusion_knb_2_opt.sum(axis = 1) - np.diag(confusion_knb_2_opt)\n",
    "TP = np.diag(confusion_knb_2_opt)\n",
    "TN = confusion_knb_2_opt.sum() - (FP + FN + TP)\n",
    "\n",
    "FP = FP.astype(float)\n",
    "FN = FN.astype(float)\n",
    "TP = TP.astype(float)\n",
    "TN = TN.astype(float)\n",
    "# això calcularà les dades de cada classe, per saber el conjunt faré la mitja.\n",
    "# Sensitivitat o recall (True positive rate)\n",
    "TPR_knb_2_std = np.mean((TP / (TP + FN))).round(2)\n",
    "# Especificitat (True negative rate)\n",
    "TNR_knb_2_std = np.mean(TN / (TN + FP)).round(2)\n",
    "# Precisió (Positive predictive value)\n",
    "PPV_knb_2_std = np.mean(TP/ (TP + FP)).round(2)\n",
    "# F1-score\n",
    "F1_knb_2_std = 2 * ((PPV_knb_2_std * TPR_knb_2_std)/(PPV_knb_2_std + TPR_knb_2_std)).round(3)\n",
    "\n",
    "print('precisió', PPV_knb_2_std,'recall', TPR_knb_2_std, 'Especificitat', TNR_knb_2_std, 'F1', F1_knb_2_std)"
   ]
  },
  {
   "cell_type": "code",
   "execution_count": 59,
   "id": "30221103",
   "metadata": {},
   "outputs": [
    {
     "name": "stdout",
     "output_type": "stream",
     "text": [
      "              precision    recall  f1-score   support\n",
      "\n",
      "           1       1.00      1.00      1.00        23\n",
      "           2       1.00      1.00      1.00        19\n",
      "           3       1.00      1.00      1.00        12\n",
      "\n",
      "    accuracy                           1.00        54\n",
      "   macro avg       1.00      1.00      1.00        54\n",
      "weighted avg       1.00      1.00      1.00        54\n",
      "\n"
     ]
    }
   ],
   "source": [
    "print(classification_report(y_test, y_pred_knb_opt))"
   ]
  },
  {
   "cell_type": "code",
   "execution_count": 60,
   "id": "add13d6c",
   "metadata": {
    "scrolled": true
   },
   "outputs": [
    {
     "name": "stdout",
     "output_type": "stream",
     "text": [
      "Cross Validation Scores are [1.         0.84615385 0.92307692 0.92307692 1.         1.\n",
      " 1.         0.83333333 1.         0.91666667]\n",
      "Average Cross Validation score: 0.94\n"
     ]
    }
   ],
   "source": [
    "# faig la validació creuada\n",
    "knb_2 = KNeighborsClassifier(n_neighbors = 1, metric = 'manhattan', weights = 'uniform')\n",
    "kf = KFold(n_splits=10)\n",
    "score_2_opt_std = cross_val_score(knb_2, X_train, y_train.values.ravel(), cv = kf)\n",
    "score_2_opt_mean_std = score_2_opt_std.mean().round(2)\n",
    "print(\"Cross Validation Scores are {}\".format(score_2_opt_std))\n",
    "print(\"Average Cross Validation score: {}\".format(score_2_opt_std.mean().round(2)))"
   ]
  },
  {
   "cell_type": "markdown",
   "id": "3bf7929a",
   "metadata": {},
   "source": [
    "## model 3"
   ]
  },
  {
   "cell_type": "code",
   "execution_count": 61,
   "id": "ee61fde9",
   "metadata": {
    "scrolled": true
   },
   "outputs": [
    {
     "name": "stdout",
     "output_type": "stream",
     "text": [
      "accuracy aplicant estandarització 0.926\n",
      "[[23  0  0]\n",
      " [ 0 19  0]\n",
      " [ 0  0 12]]\n"
     ]
    }
   ],
   "source": [
    "# model 3 decision tree classifier\n",
    "# utilitzo les dades de l'exercici 3 que donaven una predicció millorada.\n",
    "dtc_2_opt = DecisionTreeClassifier(criterion = 'gini', max_depth = 10, min_samples_leaf = 5, min_samples_split = 20, splitter = 'random')\n",
    "# entrenem el model\n",
    "dtc_2_opt.fit(X_train, y_train.values.ravel())\n",
    "# fem les prediccions\n",
    "y_pred_dtc_opt = dtc_2_opt.predict(X_test)\n",
    "# accuracy\n",
    "acc_dtc_2_opt = (dtc_2_opt.score(X_test, y_test)).round(3)\n",
    "print('accuracy aplicant estandarització',acc_dtc_2_opt)\n",
    "# imprimim matriu de confusió\n",
    "confusion_dtc_2_opt = metrics.confusion_matrix(y_test, y_pred_dtc_opt)\n",
    "print(confusion_knb_2_opt)"
   ]
  },
  {
   "cell_type": "code",
   "execution_count": 62,
   "id": "6c7d046a",
   "metadata": {},
   "outputs": [
    {
     "name": "stdout",
     "output_type": "stream",
     "text": [
      "precisió 0.94 recall 0.92 Especificitat 0.96 F1 0.93\n"
     ]
    }
   ],
   "source": [
    "FP = confusion_dtc_2_opt.sum(axis = 0) - np.diag(confusion_dtc_2_opt)\n",
    "FN = confusion_dtc_2_opt.sum(axis = 1) - np.diag(confusion_dtc_2_opt)\n",
    "TP = np.diag(confusion_dtc_2_opt)\n",
    "TN = confusion_dtc_2_opt.sum() - (FP + FN + TP)\n",
    "\n",
    "FP = FP.astype(float)\n",
    "FN = FN.astype(float)\n",
    "TP = TP.astype(float)\n",
    "TN = TN.astype(float)\n",
    "# això calcularà les dades de cada classe, per saber el conjunt faré la mitja.\n",
    "# Sensitivitat o recall (True positive rate)\n",
    "TPR_dtc_2_std = np.mean((TP / (TP + FN))).round(2)\n",
    "# Especificitat (True negative rate)\n",
    "TNR_dtc_2_std = np.mean(TN / (TN + FP)).round(2)\n",
    "# Precisió (Positive predictive value)\n",
    "PPV_dtc_2_std = np.mean(TP/ (TP + FP)).round(2)\n",
    "# F1-score\n",
    "F1_dtc_2_std = 2 * ((PPV_dtc_2_std * TPR_dtc_2_std)/(PPV_dtc_2_std + TPR_dtc_2_std)).round(3)\n",
    "\n",
    "print('precisió', PPV_dtc_2_std,'recall', TPR_dtc_2_std, 'Especificitat', TNR_dtc_2_std, 'F1', F1_dtc_2_std)"
   ]
  },
  {
   "cell_type": "code",
   "execution_count": 63,
   "id": "891c5ae4",
   "metadata": {
    "scrolled": false
   },
   "outputs": [
    {
     "name": "stdout",
     "output_type": "stream",
     "text": [
      "              precision    recall  f1-score   support\n",
      "\n",
      "           1       0.88      1.00      0.94        23\n",
      "           2       0.94      0.84      0.89        19\n",
      "           3       1.00      0.92      0.96        12\n",
      "\n",
      "    accuracy                           0.93        54\n",
      "   macro avg       0.94      0.92      0.93        54\n",
      "weighted avg       0.93      0.93      0.93        54\n",
      "\n"
     ]
    }
   ],
   "source": [
    "print(classification_report(y_test, y_pred_dtc_opt))"
   ]
  },
  {
   "cell_type": "code",
   "execution_count": 64,
   "id": "f9441006",
   "metadata": {},
   "outputs": [
    {
     "name": "stdout",
     "output_type": "stream",
     "text": [
      "Cross Validation Scores are [0.92307692 0.92307692 0.92307692 0.76923077 0.75       0.91666667\n",
      " 0.66666667 0.75       0.91666667 0.91666667]\n",
      "Average Cross Validation score: 0.85\n"
     ]
    }
   ],
   "source": [
    "# faig la validació creuada\n",
    "knb_2 = DecisionTreeClassifier(criterion = 'gini', max_depth = 10, min_samples_leaf = 5, min_samples_split = 20, splitter = 'random')\n",
    "kf = KFold(n_splits=10)\n",
    "score_3_opt_std = cross_val_score(knb_2, X_train, y_train.values.ravel(), cv = kf)\n",
    "score_3_opt_mean_std = score_3_opt_std.mean().round(2)\n",
    "print(\"Cross Validation Scores are {}\".format(score_3_opt_std))\n",
    "print(\"Average Cross Validation score: {}\".format(score_3_opt_std.mean().round(2)))"
   ]
  },
  {
   "cell_type": "markdown",
   "id": "aa841de6",
   "metadata": {},
   "source": [
    "## Taula final"
   ]
  },
  {
   "cell_type": "code",
   "execution_count": 66,
   "id": "c7413205",
   "metadata": {
    "scrolled": false
   },
   "outputs": [
    {
     "name": "stdout",
     "output_type": "stream",
     "text": [
      "--------------------------------------------------  --------  ----------------  --------------  ------  --------  -------------\n",
      "model                                               Accuracy  Cross Validation  P.Clasificació  Recall  F1-score  Especificitat\n",
      "Support Vector Machine                              0.96      0.94              0.97            0.95    0.96      0.98\n",
      "Support Vector Machine optimitzat                   0.722     0.71              0.72            0.71    0.714     0.87\n",
      "Support Vector Machine optimitzat i Standaritzat    0.981     0.97              0.98            0.97    0.974     0.99\n",
      "Veïns propers                                       0.67      0.64              0.64            0.63    0.634     0.87\n",
      "Veïns propers optimitzat                            0.796     0.81              0.77            0.76    0.764     0.9\n",
      "Veïns propers optimitzat i Standaritzat             1.0       0.94              1.0             1.0     1.0       1.0\n",
      "Decision tree classifier                            0.96      0.92              0.96            0.97    0.964     0.98\n",
      "Decision tree classifier optimitzat                 0.907     0.94              0.93            0.88    0.904     0.95\n",
      "Decision tree classifier optimitzat i Standaritzat  0.926     0.85              0.94            0.92    0.93      0.96\n",
      "--------------------------------------------------  --------  ----------------  --------------  ------  --------  -------------\n"
     ]
    }
   ],
   "source": [
    "table_clf_compare_final = [['model','Accuracy','Cross Validation','P.Clasificació','Recall','F1-score','Especificitat',],\n",
    "                    ['Support Vector Machine', acc_clf,score_1_mean, PPV_clf, TPR_clf, F1_clf ,TNR_clf],\n",
    "                    ['Support Vector Machine optimitzat', acc_clf_2, score_1_opt_mean, PPV_clf_2, TPR_clf_2, F1_clf_2,TNR_clf_2],\n",
    "                    ['Support Vector Machine optimitzat i Standaritzat', acc_clf_2_opt,score_1_opt_mean_std, PPV_clf_2_std, TPR_clf_2_std, F1_clf_2_std, TNR_clf_2_std],      \n",
    "                    ['Veïns propers', acc_knb, score_2_mean, PPV_knb, TPR_knb, F1_knb, TNR_knb ],\n",
    "                    ['Veïns propers optimitzat', acc_knb_2,score_2_opt_mean, PPV_knb_2, TPR_knb_2, F1_knb_2, TNR_knb_2],\n",
    "                    ['Veïns propers optimitzat i Standaritzat', acc_knb_2_opt,score_2_opt_mean_std, PPV_knb_2_std, TPR_knb_2_std, F1_knb_2_std, TNR_knb_2_std],\n",
    "                    ['Decision tree classifier', acc_dtc, score_3_mean, PPV_dtc, TPR_dtc, F1_dtc, TNR_dtc],\n",
    "                    ['Decision tree classifier optimitzat', acc_dtc_2, score_3_opt_mean, PPV_dtc_2, TPR_dtc_2, F1_dtc_2, TNR_dtc_2],\n",
    "                    ['Decision tree classifier optimitzat i Standaritzat', acc_dtc_2_opt, score_3_opt_mean_std, PPV_dtc_2_std, TPR_dtc_2_std, F1_dtc_2_std, TNR_dtc_2_std]\n",
    "                          ]\n",
    "print(tabulate(table_clf_compare_final))"
   ]
  },
  {
   "cell_type": "markdown",
   "id": "f7f3b419",
   "metadata": {},
   "source": [
    "Un cop vista la taula final veiem que en general l'standarització ha millorat els resultats dels models. El que més destaca és el model de veïns propers que aconsegueix els resultats més propers a 1. En segon lloc tindriem el SVM i en tercer lloc el DTC."
   ]
  }
 ],
 "metadata": {
  "kernelspec": {
   "display_name": "Python 3 (ipykernel)",
   "language": "python",
   "name": "python3"
  },
  "language_info": {
   "codemirror_mode": {
    "name": "ipython",
    "version": 3
   },
   "file_extension": ".py",
   "mimetype": "text/x-python",
   "name": "python",
   "nbconvert_exporter": "python",
   "pygments_lexer": "ipython3",
   "version": "3.9.12"
  }
 },
 "nbformat": 4,
 "nbformat_minor": 5
}
